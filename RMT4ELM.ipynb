{
 "cells": [
  {
   "cell_type": "code",
   "execution_count": 7,
   "metadata": {
    "collapsed": false
   },
   "outputs": [],
   "source": [
    "import math\n",
    "import scipy.special,scipy.linalg\n",
    "import numpy as np\n",
    "import time\n",
    "from matplotlib import pyplot as plt\n",
    "from sklearn.datasets import fetch_mldata"
   ]
  },
  {
   "cell_type": "markdown",
   "metadata": {},
   "source": [
    "# Generate Data (MNIST or Gaussian mixture)"
   ]
  },
  {
   "cell_type": "code",
   "execution_count": 8,
   "metadata": {
    "collapsed": true
   },
   "outputs": [],
   "source": [
    "def gen_data(testcase,Tr,Te,prop,means=None,covs=None):\n",
    "    rng = np.random\n",
    "    \n",
    "    if testcase is 'MNIST':\n",
    "        mnist=fetch_mldata('MNIST original')\n",
    "        X,y = mnist.data,mnist.target\n",
    "        X_train_full, X_test_full = X[:60000], X[60000:]\n",
    "        y_train_full, y_test_full = y[:60000], y[60000:]\n",
    "\n",
    "        selected_target = [7,9]\n",
    "        K=len(selected_target)\n",
    "        X_train = np.array([]).reshape(p,0)\n",
    "        X_test = np.array([]).reshape(p,0)        \n",
    "        \n",
    "        y_train = []\n",
    "        y_test = []\n",
    "        ind=0\n",
    "        for i in selected_target:\n",
    "            locate_target_train = np.where(y_train_full==i)[0][range(np.int(prop[ind]*Tr))]\n",
    "            locate_target_test  = np.where(y_test_full==i)[0][range(np.int(prop[ind]*Te))]\n",
    "            X_train = np.concatenate( (X_train,X_train_full[locate_target_train].T),axis=1)\n",
    "            y_train = np.concatenate( (y_train,2*(ind-K/2+.5)*np.ones(np.int(Tr*prop[ind]))) )\n",
    "            X_test  = np.concatenate( (X_test,X_test_full[locate_target_test].T),axis=1)\n",
    "            y_test = np.concatenate( (y_test,2*(ind-K/2+.5)*np.ones(np.int(Te*prop[ind]))) )\n",
    "            ind+=1                       \n",
    "        \n",
    "        X_train = X_train - np.mean(X_train,axis=1).reshape(p,1)\n",
    "        X_train = X_train*np.sqrt(784)/np.sqrt(np.sum(X_train**2,(0,1))/Tr)\n",
    "        \n",
    "        X_test = X_test - np.mean(X_test,axis=1).reshape(p,1)\n",
    "        X_test = X_test*np.sqrt(784)/np.sqrt(np.sum(X_test**2,(0,1))/Te)\n",
    "        \n",
    "    else:\n",
    "        X_train = np.array([]).reshape(p,0)\n",
    "        X_test = np.array([]).reshape(p,0)       \n",
    "        y_train = []\n",
    "        y_test = []\n",
    "        K = len(prop)\n",
    "        for i in range(K):            \n",
    "            X_train = np.concatenate((X_train,rng.multivariate_normal(means[i],covs[i],size=np.int(Tr*prop[i])).T),axis=1)\n",
    "            X_test  = np.concatenate((X_test, rng.multivariate_normal(means[i],covs[i],size=np.int(Te*prop[i])).T),axis=1)\n",
    "            y_train = np.concatenate( (y_train,2*(i-K/2+.5)*np.ones(np.int(Tr*prop[i]))) )\n",
    "            y_test = np.concatenate( (y_test,2*(i-K/2+.5)*np.ones(np.int(Te*prop[i]))) )            \n",
    "            \n",
    "    X_train = X_train/math.sqrt(p)\n",
    "    X_test  = X_test/math.sqrt(p)\n",
    "            \n",
    "    return X_train, X_test, y_train, y_test\n",
    "        "
   ]
  },
  {
   "cell_type": "markdown",
   "metadata": {},
   "source": [
    "# Generate $\\sigma(\\cdot)$ activation functions"
   ]
  },
  {
   "cell_type": "code",
   "execution_count": 9,
   "metadata": {
    "collapsed": true
   },
   "outputs": [],
   "source": [
    "def gen_sig(fun,Z,polynom=None):\n",
    "    \n",
    "    if fun is 'poly2':\n",
    "        sig = polynom[0]*Z**2+polynom[1]*Z+polynom[2]\n",
    "    elif fun is 'ReLu':\n",
    "        sig = np.maximum(Z,0)\n",
    "    elif fun is 'sign':\n",
    "        sig = np.sign(Z)\n",
    "    elif fun is 'posit':\n",
    "        sig = (Z>0).astype(int)\n",
    "    elif fun is 'erf':\n",
    "        sig = scipy.special.erf(Z)\n",
    "    elif fun is 'cos':\n",
    "        sig = np.cos(Z)\n",
    "    elif fun is 'abs':\n",
    "        sig = np.abs(Z)\n",
    "        \n",
    "    return sig"
   ]
  },
  {
   "cell_type": "markdown",
   "metadata": {},
   "source": [
    "# Generate matrices $\\Phi_{AB}$"
   ]
  },
  {
   "cell_type": "code",
   "execution_count": 10,
   "metadata": {
    "collapsed": false
   },
   "outputs": [],
   "source": [
    "def gen_Phi(fun,A,B,polynom=None,distrib=None,nu=None):\n",
    "    normA = np.sqrt(np.sum(A**2,axis=0))\n",
    "    normB = np.sqrt(np.sum(B**2,axis=0))\n",
    "    \n",
    "    AB = A.T @ B\n",
    "    angle_AB = np.minimum( (1/normA).reshape((len(normA),1)) * AB * (1/normB).reshape( (1,len(normB)) ) ,1.)\n",
    "      \n",
    "    if fun is 'poly2':\n",
    "        mom = {'gauss': [1,0,3],'bern': [1,0,1],'bern_skewed': [1,-2/math.sqrt(3),7/3],'student':[1,0,6/(nu-4)+3]}\n",
    "        A2 = A**2\n",
    "        B2 = B**2\n",
    "        Phi = polynom[0]**2*(mom[distrib][0]**2*(2*AB**2+(normA**2).reshape((len(normA),1))*(normB**2).reshape((1,len(normB))) )+(mom[distrib][2]-3*mom[distrib][0]**2)*(A2.T@B2))+polynom[1]**2*mom[distrib][0]*AB+polynom[1]*polynom[0]*mom[distrib][1]*(A2.T@B+A.T@B2)+polynom[2]*polynom[0]*mom[distrib][0]*( (normA**2).reshape( (len(normA),1) )+(normB**2).reshape( (1,len(normB)) ) )+polynom[2]**2\n",
    "        \n",
    "    elif fun is 'ReLu':\n",
    "        Phi = 1/(2*math.pi)* normA.reshape((len(normA),1)) * (angle_AB*np.arccos(-angle_AB)+np.sqrt(1-angle_AB**2)) * normB.reshape( (1,len(normB)) )\n",
    "        \n",
    "    elif fun is 'abs':\n",
    "        Phi = 2/math.pi* normA.reshape((len(normA),1)) * (angle_AB*np.arcsin(angle_AB)+np.sqrt(1-angle_AB**2)) * normB.reshape( (1,len(normB)) )\n",
    "        \n",
    "    elif fun is 'posit':\n",
    "        Phi = 1/2-1/(2*math.pi)*np.arccos(angle_AB)\n",
    "        \n",
    "    elif fun is 'sign':\n",
    "        Phi = 1-2/math.pi*np.arccos(angle_AB)\n",
    "        \n",
    "    elif fun is 'cos':\n",
    "        Phi = np.exp(-.5*( (normA**2).reshape((len(normA),1))+(normB**2).reshape((1,len(normB))) ))*np.cosh(AB)\n",
    "        \n",
    "    elif fun is 'erf':\n",
    "        Phi = 2/math.pi*np.arcsin(2*AB/np.sqrt((1+2*(normA**2).reshape((len(normA),1)))*(1+2*(normB**2).reshape((1,len(normB))))))\n",
    "\n",
    "    return Phi"
   ]
  },
  {
   "cell_type": "markdown",
   "metadata": {},
   "source": [
    "# Generate $E_{\\rm train}$ and $E_{\\rm test}$"
   ]
  },
  {
   "cell_type": "code",
   "execution_count": 11,
   "metadata": {
    "collapsed": false
   },
   "outputs": [],
   "source": [
    "def gen_E_th():\n",
    "    d=0\n",
    "    dt=-1\n",
    "\n",
    "    while np.abs(d-dt)>1e-6:\n",
    "        dt=d\n",
    "        d=np.mean(L/(L*n/Tr/(1+d)+gamma))\n",
    "        \n",
    "    L_psi = L*n/Tr/(1+d)\n",
    "    L_bQ = 1/(L_psi+gamma)\n",
    "\n",
    "    # E_train\n",
    "    E_train_th = gamma**2*np.mean(Uy_train**2*L_bQ**2*(1/n*np.sum(L_psi*L_bQ**2)/(1-1/n*np.sum(L_psi**2*L_bQ**2))*L_psi+1)) \n",
    "    \n",
    "    #E_test\n",
    "    E_test_th = np.mean((y_test-n/Tr/(1+d)*UPhi_cross.T@(L_bQ*Uy_train))**2)+(1/n*np.sum(Uy_train**2*L_psi*L_bQ**2))/(1-1/n*np.sum(L_psi**2*L_bQ**2))*(np.mean((n/Tr/(1+d))*D_Phi_test)-Tr/Te*np.mean( (n/Tr/(1+d))**2*D_UPhi_cross2*(1+gamma*L_bQ)*L_bQ))\n",
    "    \n",
    "    return E_train_th,E_test_th\n",
    "    "
   ]
  },
  {
   "cell_type": "markdown",
   "metadata": {},
   "source": [
    "# Main code"
   ]
  },
  {
   "cell_type": "code",
   "execution_count": 12,
   "metadata": {
    "collapsed": false
   },
   "outputs": [
    {
     "name": "stdout",
     "output_type": "stream",
     "text": [
      "Time for Theoretical Computation 0min 1s\n",
      "Time for Simulations Computation 0min 16s\n"
     ]
    },
    {
     "data": {
      "image/png": "[encoded data removed]",
      "text/plain": [
       "<matplotlib.figure.Figure at 0x115f5b470>"
      ]
     },
     "metadata": {},
     "output_type": "display_data"
    }
   ],
   "source": [
    "## Parameter setting\n",
    "n=512\n",
    "p=256\n",
    "Tr=1024           # Training length\n",
    "Te=Tr             # Testing length\n",
    "\n",
    "prop=[.5,.5]       # proportions of each class\n",
    "K=len(prop)        # number of data classes\n",
    "\n",
    "gammas = [10**x for x in np.arange(-4,2.25,.25)] # Range of gamma for simulations\n",
    "\n",
    "testcase='MNIST'   # testcase for simulation, among 'iid','means','var','orth','mixed',MNIST'\n",
    "sigma='ReLu'       # activation function, among 'ReLu', 'sign', 'posit', 'erf', 'poly2', 'cos', 'abs'\n",
    "\n",
    "\n",
    "# Only used for sigma='poly2'\n",
    "polynom=[-.5,0,1]  # sigma(t)=polynom[0].t²+polynom[1].t+polynom[2]\n",
    "distrib='student'  # distribution of Wij, among 'gauss','bern','bern_skewed','student'\n",
    "\n",
    "# Only used for sigma='poly2' and distrib='student'\n",
    "nu=7             # degrees of freedom of Student-t distribution\n",
    "        \n",
    "\n",
    "## Generate X_train,X_test,y_train,y_test\n",
    "if testcase is 'MNIST':\n",
    "    p=784\n",
    "    X_train,X_test,y_train,y_test = gen_data(testcase,Tr,Te,prop)\n",
    "else:    \n",
    "    means=[]\n",
    "    covs=[]\n",
    "    if testcase is 'iid':\n",
    "        for i in range(K):\n",
    "            means.append(np.zeros(p))\n",
    "            covs.append(np.eye(p))     \n",
    "    elif testcase is 'means':\n",
    "        for i in range(K):\n",
    "            means.append( np.concatenate( (np.zeros(i),4*np.ones(1),np.zeros(p-i-1)) ) )\n",
    "            covs.append(np.eye(p))\n",
    "    elif testcase is 'var':\n",
    "        for i in range(K):\n",
    "            means.append(np.zeros(p))\n",
    "            covs.append(np.eye(p)*(1+8*i/np.sqrt(p)))\n",
    "    elif testcase is 'orth':\n",
    "        for i in range(K):\n",
    "            means.append(np.zeros(p))\n",
    "            covs.append( np.diag(np.concatenate( (np.ones(np.int(np.sum(prop[0:i]*p))),4*np.ones(np.int(prop[i]*p)),np.ones(np.int(np.sum(prop[i+1:]*p))) ) ) ))\n",
    "    elif testcase is 'mixed':\n",
    "        for i in range(K):\n",
    "            means.append( np.concatenate( (np.zeros(i),4*np.ones(1),np.zeros(p-i-1)) ) )\n",
    "            covs.append((1+4*i/np.sqrt(p))*scipy.linalg.toeplitz( [(.4*i)**x for x in range(p)] ))            \n",
    "\n",
    "    X_train,X_test,y_train,y_test = gen_data(testcase,Tr,Te,prop,means,covs)\n",
    "\n",
    "##Theory\n",
    "start_th_calculus = time.time()\n",
    "\n",
    "Phi=gen_Phi(sigma,X_train,X_train,polynom,distrib,nu)\n",
    "L,U = np.linalg.eigh(Phi)\n",
    "Phi_cross = gen_Phi(sigma,X_train,X_test,polynom,distrib,nu)\n",
    "UPhi_cross = U.T@Phi_cross\n",
    "D_UPhi_cross2 = np.sum(UPhi_cross**2,axis=1)\n",
    "\n",
    "Phi_test = gen_Phi(sigma,X_test,X_test,polynom,distrib,nu)\n",
    "D_Phi_test = np.diag(Phi_test)\n",
    "Uy_train = U.T@y_train\n",
    "\n",
    "E_train_th=np.zeros(len(gammas))\n",
    "E_test_th =np.zeros(len(gammas))\n",
    "\n",
    "ind=0\n",
    "for gamma in gammas:\n",
    "    E_train_th[ind],E_test_th[ind] = gen_E_th()\n",
    "    ind+=1\n",
    "    \n",
    "end_th_calculus = time.time() \n",
    "\n",
    "m,s = divmod(end_th_calculus-start_th_calculus,60)\n",
    "print('Time for Theoretical Computation {:d}min {:d}s'.format( int(m),math.ceil(s) ))   \n",
    "    \n",
    "## Simulations\n",
    "start_sim_calculus = time.time()\n",
    "\n",
    "loops = 10        # Number of generations of W to be averaged over\n",
    "\n",
    "E_train=np.zeros(len(gammas))\n",
    "E_test =np.zeros(len(gammas))\n",
    "\n",
    "\n",
    "rng = np.random\n",
    "\n",
    "for loop in range(loops):    \n",
    "    if sigma is 'poly2':\n",
    "        if distrib is 'student':\n",
    "            W = rng.standard_t(nu,n*p).reshape(n,p)/np.sqrt(nu/(nu-2))\n",
    "        elif distrib is 'bern':\n",
    "            W = np.sign(rng.randn(n,p))\n",
    "        elif distrib is 'bern_skewed':\n",
    "            Z = rng.rand(n,p)\n",
    "            W = (Z<.75)/np.sqrt(3)+(Z>.75)*(-np.sqrt(3))\n",
    "        elif distrib is 'gauss':\n",
    "            W = rng.randn(n,p)\n",
    "    else:\n",
    "        W = rng.randn(n,p)\n",
    "\n",
    "    S_train = gen_sig(sigma,W @ X_train,polynom)\n",
    "    SS = S_train.T @ S_train\n",
    "\n",
    "    S_test = gen_sig(sigma, W @ X_test,polynom)\n",
    "\n",
    "    ind = 0\n",
    "    for gamma in gammas:\n",
    "\n",
    "        inv_resolv = np.linalg.solve( SS/Tr+gamma*np.eye(Tr),y_train)\n",
    "        beta = S_train @ inv_resolv/Tr\n",
    "        z_train = S_train.T @ beta\n",
    "\n",
    "        z_test = S_test.T @ beta\n",
    "\n",
    "\n",
    "        E_train[ind] += gamma**2*np.linalg.norm(inv_resolv)**2/Tr/loops\n",
    "        E_test[ind]  += np.linalg.norm(y_test-z_test)**2/Te/loops\n",
    "\n",
    "        ind+=1   \n",
    "    \n",
    "end_sim_calculus = time.time() \n",
    "\n",
    "m,s = divmod(end_sim_calculus-start_sim_calculus,60)\n",
    "print('Time for Simulations Computation {:d}min {:d}s'.format( int(m),math.ceil(s) ))    \n",
    "    \n",
    "#Plots    \n",
    "p11,=plt.plot(gammas,E_train,'bo')\n",
    "p21,=plt.plot(gammas,E_test,'ro')\n",
    "\n",
    "p12,=plt.plot(gammas,E_train_th,'b-')\n",
    "p22,=plt.plot(gammas,E_test_th,'r-')\n",
    "plt.xscale('log')\n",
    "plt.yscale('log')\n",
    "plt.xlim( gammas[0],gammas[-1] )\n",
    "plt.ylim(np.amin( (E_train,E_train_th) ),np.amax( (E_test,E_test_th) ))\n",
    "plt.legend([p11,p12,p21,p22], [\"E_train\", \"E_train Th\",\"E_test\",\"E_test Th\"],bbox_to_anchor=(1, 1), loc='upper left')\n",
    "plt.show()\n"
   ]
  }
 ],
 "metadata": {
  "kernelspec": {
   "display_name": "Python 3",
   "language": "python",
   "name": "python3"
  },
  "language_info": {
   "codemirror_mode": {
    "name": "ipython",
    "version": 3
   },
   "file_extension": ".py",
   "mimetype": "text/x-python",
   "name": "python",
   "nbconvert_exporter": "python",
   "pygments_lexer": "ipython3",
   "version": "3.6.0"
  }
 },
 "nbformat": 4,
 "nbformat_minor": 2
}
